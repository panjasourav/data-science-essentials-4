{
 "cells": [
  {
   "cell_type": "code",
   "execution_count": 9,
   "id": "43efd772",
   "metadata": {},
   "outputs": [],
   "source": [
    "import pandas as pd"
   ]
  },
  {
   "cell_type": "code",
   "execution_count": 10,
   "id": "6338184c",
   "metadata": {},
   "outputs": [],
   "source": [
    "physicians=pd.read_csv('../data_science/data-science-essentials-4/data/primary_care_physicians.csv')"
   ]
  },
  {
   "cell_type": "code",
   "execution_count": 3,
   "id": "4f8830b9",
   "metadata": {},
   "outputs": [
    {
     "data": {
      "text/plain": [
       "(3230, 4)"
      ]
     },
     "execution_count": 3,
     "metadata": {},
     "output_type": "execute_result"
    }
   ],
   "source": [
    "physicians.shape"
   ]
  },
  {
   "cell_type": "code",
   "execution_count": 4,
   "id": "5c359423",
   "metadata": {},
   "outputs": [
    {
     "data": {
      "text/html": [
       "<div>\n",
       "<style scoped>\n",
       "    .dataframe tbody tr th:only-of-type {\n",
       "        vertical-align: middle;\n",
       "    }\n",
       "\n",
       "    .dataframe tbody tr th {\n",
       "        vertical-align: top;\n",
       "    }\n",
       "\n",
       "    .dataframe thead th {\n",
       "        text-align: right;\n",
       "    }\n",
       "</style>\n",
       "<table border=\"1\" class=\"dataframe\">\n",
       "  <thead>\n",
       "    <tr style=\"text-align: right;\">\n",
       "      <th></th>\n",
       "      <th>FIPS</th>\n",
       "      <th>state</th>\n",
       "      <th>county</th>\n",
       "      <th>primary_care_physicians</th>\n",
       "    </tr>\n",
       "  </thead>\n",
       "  <tbody>\n",
       "    <tr>\n",
       "      <th>0</th>\n",
       "      <td>1001</td>\n",
       "      <td>Alabama</td>\n",
       "      <td>Autauga</td>\n",
       "      <td>26.0</td>\n",
       "    </tr>\n",
       "    <tr>\n",
       "      <th>1</th>\n",
       "      <td>1003</td>\n",
       "      <td>Alabama</td>\n",
       "      <td>Baldwin</td>\n",
       "      <td>153.0</td>\n",
       "    </tr>\n",
       "    <tr>\n",
       "      <th>2</th>\n",
       "      <td>1005</td>\n",
       "      <td>Alabama</td>\n",
       "      <td>Barbour</td>\n",
       "      <td>8.0</td>\n",
       "    </tr>\n",
       "    <tr>\n",
       "      <th>3</th>\n",
       "      <td>1007</td>\n",
       "      <td>Alabama</td>\n",
       "      <td>Bibb</td>\n",
       "      <td>12.0</td>\n",
       "    </tr>\n",
       "    <tr>\n",
       "      <th>4</th>\n",
       "      <td>1009</td>\n",
       "      <td>Alabama</td>\n",
       "      <td>Blount</td>\n",
       "      <td>12.0</td>\n",
       "    </tr>\n",
       "  </tbody>\n",
       "</table>\n",
       "</div>"
      ],
      "text/plain": [
       "   FIPS    state   county  primary_care_physicians\n",
       "0  1001  Alabama  Autauga                     26.0\n",
       "1  1003  Alabama  Baldwin                    153.0\n",
       "2  1005  Alabama  Barbour                      8.0\n",
       "3  1007  Alabama     Bibb                     12.0\n",
       "4  1009  Alabama   Blount                     12.0"
      ]
     },
     "execution_count": 4,
     "metadata": {},
     "output_type": "execute_result"
    }
   ],
   "source": [
    "physicians.head()"
   ]
  },
  {
   "cell_type": "code",
   "execution_count": 5,
   "id": "4c59b0db",
   "metadata": {},
   "outputs": [
    {
     "data": {
      "text/plain": [
       "array(['Autauga', 'Baldwin', 'Barbour', ..., 'Yauco', 'St. John',\n",
       "       'St. Thomas'], dtype=object)"
      ]
     },
     "execution_count": 5,
     "metadata": {},
     "output_type": "execute_result"
    }
   ],
   "source": [
    "physicians['county'].unique()"
   ]
  },
  {
   "cell_type": "code",
   "execution_count": 6,
   "id": "0bf28dce",
   "metadata": {},
   "outputs": [
    {
     "data": {
      "text/plain": [
       "Washington    31\n",
       "Jefferson     26\n",
       "Franklin      25\n",
       "Jackson       24\n",
       "Lincoln       24\n",
       "              ..\n",
       "Kit Carson     1\n",
       "Spalding       1\n",
       "Mahoning       1\n",
       "Kingsbury      1\n",
       "Bledsoe        1\n",
       "Name: county, Length: 1936, dtype: int64"
      ]
     },
     "execution_count": 6,
     "metadata": {},
     "output_type": "execute_result"
    }
   ],
   "source": [
    "physicians['county'].value_counts()"
   ]
  },
  {
   "cell_type": "code",
   "execution_count": 7,
   "id": "d12238b9",
   "metadata": {},
   "outputs": [
    {
     "data": {
      "text/plain": [
       "array(['Alabama', 'Alaska', 'Arizona', 'Arkansas', 'California',\n",
       "       'Colorado', 'Connecticut', 'Delaware', 'Dist. of Columbia',\n",
       "       'Florida', 'Georgia', 'Hawaii', 'Idaho', 'Illinois', 'Indiana',\n",
       "       'Iowa', 'Kansas', 'Kentucky', 'Louisiana', 'Maine', 'Maryland',\n",
       "       'Massachusetts', 'Michigan', 'Minnesota', 'Mississippi',\n",
       "       'Missouri', 'Montana', 'Nebraska', 'Nevada', 'New Hampshire',\n",
       "       'New Jersey', 'New Mexico', 'New York', 'North Carolina',\n",
       "       'North Dakota', 'Ohio', 'Oklahoma', 'Oregon', 'Pennsylvania',\n",
       "       'Rhode Island', 'South Carolina', 'South Dakota', 'Tennessee',\n",
       "       'Texas', 'Utah', 'Vermont', 'Virginia', 'Washington',\n",
       "       'West Virginia', 'Wisconsin', 'Wyoming', 'Guam', 'Puerto Rico',\n",
       "       'US Virgin Islands'], dtype=object)"
      ]
     },
     "execution_count": 7,
     "metadata": {},
     "output_type": "execute_result"
    }
   ],
   "source": [
    "physicians['state'].unique()"
   ]
  },
  {
   "cell_type": "code",
   "execution_count": 8,
   "id": "138aebd3",
   "metadata": {},
   "outputs": [
    {
     "data": {
      "text/plain": [
       "Texas                254\n",
       "Georgia              159\n",
       "Virginia             135\n",
       "Kentucky             120\n",
       "Missouri             115\n",
       "Kansas               105\n",
       "Illinois             102\n",
       "North Carolina       100\n",
       "Iowa                  99\n",
       "Tennessee             95\n",
       "Nebraska              93\n",
       "Indiana               92\n",
       "Ohio                  88\n",
       "Minnesota             87\n",
       "Michigan              83\n",
       "Mississippi           82\n",
       "Puerto Rico           78\n",
       "Oklahoma              77\n",
       "Arkansas              75\n",
       "Wisconsin             72\n",
       "Pennsylvania          67\n",
       "Alabama               67\n",
       "Florida               67\n",
       "South Dakota          66\n",
       "Colorado              64\n",
       "Louisiana             64\n",
       "New York              62\n",
       "California            58\n",
       "Montana               56\n",
       "West Virginia         55\n",
       "North Dakota          53\n",
       "South Carolina        46\n",
       "Idaho                 44\n",
       "Washington            39\n",
       "Oregon                36\n",
       "Alaska                33\n",
       "New Mexico            33\n",
       "Utah                  29\n",
       "Maryland              24\n",
       "Wyoming               23\n",
       "New Jersey            21\n",
       "Nevada                17\n",
       "Maine                 16\n",
       "Arizona               15\n",
       "Vermont               14\n",
       "Massachusetts         14\n",
       "New Hampshire         10\n",
       "Connecticut            8\n",
       "Rhode Island           5\n",
       "Hawaii                 5\n",
       "Delaware               3\n",
       "US Virgin Islands      3\n",
       "Guam                   1\n",
       "Dist. of Columbia      1\n",
       "Name: state, dtype: int64"
      ]
     },
     "execution_count": 8,
     "metadata": {},
     "output_type": "execute_result"
    }
   ],
   "source": [
    "physicians['state'].value_counts()"
   ]
  },
  {
   "cell_type": "code",
   "execution_count": 9,
   "id": "39f1821b",
   "metadata": {},
   "outputs": [
    {
     "data": {
      "text/html": [
       "<div>\n",
       "<style scoped>\n",
       "    .dataframe tbody tr th:only-of-type {\n",
       "        vertical-align: middle;\n",
       "    }\n",
       "\n",
       "    .dataframe tbody tr th {\n",
       "        vertical-align: top;\n",
       "    }\n",
       "\n",
       "    .dataframe thead th {\n",
       "        text-align: right;\n",
       "    }\n",
       "</style>\n",
       "<table border=\"1\" class=\"dataframe\">\n",
       "  <thead>\n",
       "    <tr style=\"text-align: right;\">\n",
       "      <th></th>\n",
       "      <th>FIPS</th>\n",
       "      <th>state</th>\n",
       "      <th>county</th>\n",
       "      <th>primary_care_physicians</th>\n",
       "    </tr>\n",
       "  </thead>\n",
       "  <tbody>\n",
       "    <tr>\n",
       "      <th>2432</th>\n",
       "      <td>47001</td>\n",
       "      <td>Tennessee</td>\n",
       "      <td>Anderson</td>\n",
       "      <td>39.0</td>\n",
       "    </tr>\n",
       "    <tr>\n",
       "      <th>2433</th>\n",
       "      <td>47003</td>\n",
       "      <td>Tennessee</td>\n",
       "      <td>Bedford</td>\n",
       "      <td>15.0</td>\n",
       "    </tr>\n",
       "    <tr>\n",
       "      <th>2434</th>\n",
       "      <td>47005</td>\n",
       "      <td>Tennessee</td>\n",
       "      <td>Benton</td>\n",
       "      <td>3.0</td>\n",
       "    </tr>\n",
       "    <tr>\n",
       "      <th>2435</th>\n",
       "      <td>47007</td>\n",
       "      <td>Tennessee</td>\n",
       "      <td>Bledsoe</td>\n",
       "      <td>1.0</td>\n",
       "    </tr>\n",
       "    <tr>\n",
       "      <th>2436</th>\n",
       "      <td>47009</td>\n",
       "      <td>Tennessee</td>\n",
       "      <td>Blount</td>\n",
       "      <td>90.0</td>\n",
       "    </tr>\n",
       "    <tr>\n",
       "      <th>...</th>\n",
       "      <td>...</td>\n",
       "      <td>...</td>\n",
       "      <td>...</td>\n",
       "      <td>...</td>\n",
       "    </tr>\n",
       "    <tr>\n",
       "      <th>2522</th>\n",
       "      <td>47181</td>\n",
       "      <td>Tennessee</td>\n",
       "      <td>Wayne</td>\n",
       "      <td>5.0</td>\n",
       "    </tr>\n",
       "    <tr>\n",
       "      <th>2523</th>\n",
       "      <td>47183</td>\n",
       "      <td>Tennessee</td>\n",
       "      <td>Weakley</td>\n",
       "      <td>18.0</td>\n",
       "    </tr>\n",
       "    <tr>\n",
       "      <th>2524</th>\n",
       "      <td>47185</td>\n",
       "      <td>Tennessee</td>\n",
       "      <td>White</td>\n",
       "      <td>9.0</td>\n",
       "    </tr>\n",
       "    <tr>\n",
       "      <th>2525</th>\n",
       "      <td>47187</td>\n",
       "      <td>Tennessee</td>\n",
       "      <td>Williamson</td>\n",
       "      <td>338.0</td>\n",
       "    </tr>\n",
       "    <tr>\n",
       "      <th>2526</th>\n",
       "      <td>47189</td>\n",
       "      <td>Tennessee</td>\n",
       "      <td>Wilson</td>\n",
       "      <td>43.0</td>\n",
       "    </tr>\n",
       "  </tbody>\n",
       "</table>\n",
       "<p>95 rows × 4 columns</p>\n",
       "</div>"
      ],
      "text/plain": [
       "       FIPS      state      county  primary_care_physicians\n",
       "2432  47001  Tennessee    Anderson                     39.0\n",
       "2433  47003  Tennessee     Bedford                     15.0\n",
       "2434  47005  Tennessee      Benton                      3.0\n",
       "2435  47007  Tennessee     Bledsoe                      1.0\n",
       "2436  47009  Tennessee      Blount                     90.0\n",
       "...     ...        ...         ...                      ...\n",
       "2522  47181  Tennessee       Wayne                      5.0\n",
       "2523  47183  Tennessee     Weakley                     18.0\n",
       "2524  47185  Tennessee       White                      9.0\n",
       "2525  47187  Tennessee  Williamson                    338.0\n",
       "2526  47189  Tennessee      Wilson                     43.0\n",
       "\n",
       "[95 rows x 4 columns]"
      ]
     },
     "execution_count": 9,
     "metadata": {},
     "output_type": "execute_result"
    }
   ],
   "source": [
    "physicians.loc[(physicians['state']=='Tennessee')]"
   ]
  },
  {
   "cell_type": "markdown",
   "id": "841ed929",
   "metadata": {},
   "source": [
    "William county have highest number of pCP and Bledsoe have lowest number of PCP."
   ]
  },
  {
   "cell_type": "code",
   "execution_count": 23,
   "id": "b24930eb",
   "metadata": {},
   "outputs": [],
   "source": [
    "population=pd.read_csv('../data_science/data-science-essentials-4/data/population_by_county.csv')"
   ]
  },
  {
   "cell_type": "code",
   "execution_count": 24,
   "id": "2e29695c",
   "metadata": {},
   "outputs": [
    {
     "data": {
      "text/html": [
       "<div>\n",
       "<style scoped>\n",
       "    .dataframe tbody tr th:only-of-type {\n",
       "        vertical-align: middle;\n",
       "    }\n",
       "\n",
       "    .dataframe tbody tr th {\n",
       "        vertical-align: top;\n",
       "    }\n",
       "\n",
       "    .dataframe thead th {\n",
       "        text-align: right;\n",
       "    }\n",
       "</style>\n",
       "<table border=\"1\" class=\"dataframe\">\n",
       "  <thead>\n",
       "    <tr style=\"text-align: right;\">\n",
       "      <th></th>\n",
       "      <th>FIPS</th>\n",
       "      <th>population</th>\n",
       "      <th>county</th>\n",
       "      <th>state</th>\n",
       "      <th>urban</th>\n",
       "    </tr>\n",
       "  </thead>\n",
       "  <tbody>\n",
       "    <tr>\n",
       "      <th>0</th>\n",
       "      <td>17051</td>\n",
       "      <td>21565</td>\n",
       "      <td>Fayette County</td>\n",
       "      <td>ILLINOIS</td>\n",
       "      <td>Rural</td>\n",
       "    </tr>\n",
       "    <tr>\n",
       "      <th>1</th>\n",
       "      <td>17107</td>\n",
       "      <td>29003</td>\n",
       "      <td>Logan County</td>\n",
       "      <td>ILLINOIS</td>\n",
       "      <td>Rural</td>\n",
       "    </tr>\n",
       "    <tr>\n",
       "      <th>2</th>\n",
       "      <td>17165</td>\n",
       "      <td>23994</td>\n",
       "      <td>Saline County</td>\n",
       "      <td>ILLINOIS</td>\n",
       "      <td>Rural</td>\n",
       "    </tr>\n",
       "    <tr>\n",
       "      <th>3</th>\n",
       "      <td>17097</td>\n",
       "      <td>701473</td>\n",
       "      <td>Lake County</td>\n",
       "      <td>ILLINOIS</td>\n",
       "      <td>Urban</td>\n",
       "    </tr>\n",
       "    <tr>\n",
       "      <th>4</th>\n",
       "      <td>17127</td>\n",
       "      <td>14219</td>\n",
       "      <td>Massac County</td>\n",
       "      <td>ILLINOIS</td>\n",
       "      <td>Rural</td>\n",
       "    </tr>\n",
       "  </tbody>\n",
       "</table>\n",
       "</div>"
      ],
      "text/plain": [
       "    FIPS  population          county     state  urban\n",
       "0  17051       21565  Fayette County  ILLINOIS  Rural\n",
       "1  17107       29003    Logan County  ILLINOIS  Rural\n",
       "2  17165       23994   Saline County  ILLINOIS  Rural\n",
       "3  17097      701473     Lake County  ILLINOIS  Urban\n",
       "4  17127       14219   Massac County  ILLINOIS  Rural"
      ]
     },
     "execution_count": 24,
     "metadata": {},
     "output_type": "execute_result"
    }
   ],
   "source": [
    "population.head()"
   ]
  },
  {
   "cell_type": "code",
   "execution_count": 25,
   "id": "fbd3eb39",
   "metadata": {},
   "outputs": [
    {
     "data": {
      "text/plain": [
       "array(['Fayette County', 'Logan County', 'Saline County', ...,\n",
       "       'McNairy County', 'Hamblen County', 'Dickson County'], dtype=object)"
      ]
     },
     "execution_count": 25,
     "metadata": {},
     "output_type": "execute_result"
    }
   ],
   "source": [
    "population['county'].unique()"
   ]
  },
  {
   "cell_type": "code",
   "execution_count": 26,
   "id": "2f8402ea",
   "metadata": {},
   "outputs": [
    {
     "data": {
      "text/plain": [
       "Washington County      30\n",
       "Jefferson County       25\n",
       "Franklin County        24\n",
       "Jackson County         23\n",
       "Lincoln County         23\n",
       "                       ..\n",
       "Vega Alta Municipio     1\n",
       "Siskiyou County         1\n",
       "Bandera County          1\n",
       "Buena Vista County      1\n",
       "Columbiana County       1\n",
       "Name: county, Length: 1937, dtype: int64"
      ]
     },
     "execution_count": 26,
     "metadata": {},
     "output_type": "execute_result"
    }
   ],
   "source": [
    "population['county'].value_counts()"
   ]
  },
  {
   "cell_type": "code",
   "execution_count": 27,
   "id": "559fde53",
   "metadata": {},
   "outputs": [
    {
     "data": {
      "text/plain": [
       "array(['ILLINOIS', 'INDIANA', 'IOWA', 'GEORGIA', 'KANSAS', 'ARKANSAS',\n",
       "       'CALIFORNIA', 'HAWAII', 'IDAHO', 'OREGON', 'VIRGINIA',\n",
       "       'MISSISSIPPI', 'PENNSYLVANIA', 'MISSOURI', 'WASHINGTON',\n",
       "       'PUERTO RICO', 'TENNESSEE', 'RHODE ISLAND', 'SOUTH CAROLINA',\n",
       "       'SOUTH DAKOTA', 'COLORADO', 'DELAWARE', 'DISTRICT OF COLUMBIA',\n",
       "       'CONNECTICUT', 'NEW YORK', 'NORTH CAROLINA', 'WYOMING', 'TEXAS',\n",
       "       'FLORIDA', 'NORTH DAKOTA', 'OHIO', 'KENTUCKY', 'LOUISIANA',\n",
       "       'MAINE', 'MARYLAND', 'MASSACHUSETTS', 'MICHIGAN', 'MINNESOTA',\n",
       "       'ALABAMA', 'ALASKA', 'ARIZONA', 'OKLAHOMA', 'WEST VIRGINIA',\n",
       "       'WISCONSIN', 'VERMONT', 'UTAH', 'MONTANA', 'NEBRASKA', 'NEVADA',\n",
       "       'NEW HAMPSHIRE', 'NEW JERSEY', 'NEW MEXICO'], dtype=object)"
      ]
     },
     "execution_count": 27,
     "metadata": {},
     "output_type": "execute_result"
    }
   ],
   "source": [
    "population['state'].unique()"
   ]
  },
  {
   "cell_type": "code",
   "execution_count": 30,
   "id": "da049b14",
   "metadata": {},
   "outputs": [
    {
     "data": {
      "text/plain": [
       "TEXAS                   254\n",
       "GEORGIA                 159\n",
       "VIRGINIA                132\n",
       "KENTUCKY                120\n",
       "MISSOURI                115\n",
       "KANSAS                  105\n",
       "ILLINOIS                102\n",
       "NORTH CAROLINA          100\n",
       "IOWA                     99\n",
       "TENNESSEE                95\n",
       "NEBRASKA                 93\n",
       "INDIANA                  92\n",
       "OHIO                     88\n",
       "MINNESOTA                87\n",
       "MICHIGAN                 83\n",
       "MISSISSIPPI              82\n",
       "OKLAHOMA                 77\n",
       "PUERTO RICO              76\n",
       "ARKANSAS                 75\n",
       "WISCONSIN                72\n",
       "ALABAMA                  67\n",
       "FLORIDA                  67\n",
       "PENNSYLVANIA             67\n",
       "SOUTH DAKOTA             65\n",
       "COLORADO                 64\n",
       "LOUISIANA                64\n",
       "NEW YORK                 62\n",
       "CALIFORNIA               58\n",
       "MONTANA                  56\n",
       "WEST VIRGINIA            55\n",
       "NORTH DAKOTA             53\n",
       "SOUTH CAROLINA           46\n",
       "IDAHO                    44\n",
       "WASHINGTON               39\n",
       "OREGON                   36\n",
       "NEW MEXICO               33\n",
       "UTAH                     29\n",
       "MARYLAND                 24\n",
       "WYOMING                  23\n",
       "NEW JERSEY               21\n",
       "NEVADA                   17\n",
       "MAINE                    16\n",
       "ALASKA                   16\n",
       "ARIZONA                  15\n",
       "VERMONT                  14\n",
       "MASSACHUSETTS            14\n",
       "NEW HAMPSHIRE            10\n",
       "CONNECTICUT               8\n",
       "RHODE ISLAND              5\n",
       "HAWAII                    4\n",
       "DELAWARE                  3\n",
       "DISTRICT OF COLUMBIA      1\n",
       "Name: state, dtype: int64"
      ]
     },
     "execution_count": 30,
     "metadata": {},
     "output_type": "execute_result"
    }
   ],
   "source": [
    "population['state'].value_counts()"
   ]
  },
  {
   "cell_type": "code",
   "execution_count": 12,
   "id": "ececc843",
   "metadata": {},
   "outputs": [
    {
     "data": {
      "text/plain": [
       "count    3224.00000\n",
       "mean       77.92835\n",
       "std       274.49887\n",
       "min         0.00000\n",
       "25%         4.00000\n",
       "50%        11.50000\n",
       "75%        39.00000\n",
       "max      7412.00000\n",
       "Name: primary_care_physicians, dtype: float64"
      ]
     },
     "execution_count": 12,
     "metadata": {},
     "output_type": "execute_result"
    }
   ],
   "source": [
    "physicians['primary_care_physicians'].describe()"
   ]
  },
  {
   "cell_type": "code",
   "execution_count": 11,
   "id": "29359b42",
   "metadata": {},
   "outputs": [
    {
     "data": {
      "text/plain": [
       "count    3224.00000\n",
       "mean       77.92835\n",
       "std       274.49887\n",
       "min         0.00000\n",
       "25%         4.00000\n",
       "50%        11.50000\n",
       "75%        39.00000\n",
       "max      7412.00000\n",
       "Name: primary_care_physicians, dtype: float64"
      ]
     },
     "execution_count": 11,
     "metadata": {},
     "output_type": "execute_result"
    }
   ],
   "source": [
    "physicians['primary_care_physicians'].describe()"
   ]
  },
  {
   "cell_type": "code",
   "execution_count": 23,
   "id": "90ce2b2b",
   "metadata": {},
   "outputs": [
    {
     "data": {
      "text/html": [
       "<div>\n",
       "<style scoped>\n",
       "    .dataframe tbody tr th:only-of-type {\n",
       "        vertical-align: middle;\n",
       "    }\n",
       "\n",
       "    .dataframe tbody tr th {\n",
       "        vertical-align: top;\n",
       "    }\n",
       "\n",
       "    .dataframe thead th {\n",
       "        text-align: right;\n",
       "    }\n",
       "</style>\n",
       "<table border=\"1\" class=\"dataframe\">\n",
       "  <thead>\n",
       "    <tr style=\"text-align: right;\">\n",
       "      <th></th>\n",
       "      <th>FIPS</th>\n",
       "      <th>state</th>\n",
       "      <th>county</th>\n",
       "      <th>primary_care_physicians</th>\n",
       "    </tr>\n",
       "  </thead>\n",
       "  <tbody>\n",
       "    <tr>\n",
       "      <th>0</th>\n",
       "      <td>1001</td>\n",
       "      <td>Alabama</td>\n",
       "      <td>Autauga</td>\n",
       "      <td>26.0</td>\n",
       "    </tr>\n",
       "    <tr>\n",
       "      <th>1</th>\n",
       "      <td>1003</td>\n",
       "      <td>Alabama</td>\n",
       "      <td>Baldwin</td>\n",
       "      <td>153.0</td>\n",
       "    </tr>\n",
       "  </tbody>\n",
       "</table>\n",
       "</div>"
      ],
      "text/plain": [
       "   FIPS    state   county  primary_care_physicians\n",
       "0  1001  Alabama  Autauga                     26.0\n",
       "1  1003  Alabama  Baldwin                    153.0"
      ]
     },
     "execution_count": 23,
     "metadata": {},
     "output_type": "execute_result"
    }
   ],
   "source": [
    "physicians.head(2)"
   ]
  },
  {
   "cell_type": "code",
   "execution_count": null,
   "id": "5ec4dbdb",
   "metadata": {},
   "outputs": [],
   "source": []
  }
 ],
 "metadata": {
  "kernelspec": {
   "display_name": "Python 3",
   "language": "python",
   "name": "python3"
  },
  "language_info": {
   "codemirror_mode": {
    "name": "ipython",
    "version": 3
   },
   "file_extension": ".py",
   "mimetype": "text/x-python",
   "name": "python",
   "nbconvert_exporter": "python",
   "pygments_lexer": "ipython3",
   "version": "3.8.8"
  }
 },
 "nbformat": 4,
 "nbformat_minor": 5
}
